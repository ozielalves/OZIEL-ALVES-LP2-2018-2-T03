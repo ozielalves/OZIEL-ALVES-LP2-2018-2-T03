{
 "cells": [
  {
   "cell_type": "code",
   "execution_count": 25,
   "metadata": {},
   "outputs": [],
   "source": [
    "import numpy as np\n",
    "import math as mt"
   ]
  },
  {
   "cell_type": "code",
   "execution_count": 7,
   "metadata": {},
   "outputs": [],
   "source": [
    "#Selection Sort"
   ]
  },
  {
   "cell_type": "code",
   "execution_count": 8,
   "metadata": {},
   "outputs": [],
   "source": [
    "def selection_sort(vector):\n",
    "    for i in range(0, len(vector)):\n",
    "        for j in range(i+1, len(vector)):\n",
    "            if vector[j] < vector[i]:\n",
    "                aux = vector[j]\n",
    "                vector[j] = vector[i]\n",
    "                vector[i] = aux\n",
    "    print(\"Selection\",vector)"
   ]
  },
  {
   "cell_type": "code",
   "execution_count": 9,
   "metadata": {},
   "outputs": [],
   "source": [
    "#Insertion Sort"
   ]
  },
  {
   "cell_type": "code",
   "execution_count": 10,
   "metadata": {},
   "outputs": [],
   "source": [
    "def insection_sort(vector):\n",
    "    for i in range(1,len(vector)):\n",
    "        valorAtual = vector[i]\n",
    "        k = i\n",
    "        while k > 0 and vector[k-1] > valorAtual:\n",
    "            vector[k] = vector[k-1]\n",
    "            k -= 1\n",
    "\n",
    "        vector[k] = valorAtual\n",
    "    print(\"Insection\",vector)"
   ]
  },
  {
   "cell_type": "code",
   "execution_count": 11,
   "metadata": {},
   "outputs": [],
   "source": [
    "#Merge Sort"
   ]
  },
  {
   "cell_type": "code",
   "execution_count": 12,
   "metadata": {},
   "outputs": [],
   "source": [
    "def M_sort(vector):\n",
    "    print(\"Splitting \",vector)\n",
    "    if len(vector)>1:\n",
    "        mid = len(vector)//2\n",
    "        lefthalf = vector[:mid]\n",
    "        righthalf = vector[mid:]\n",
    "\n",
    "        merge_sort(lefthalf)\n",
    "        merge_sort(righthalf)\n",
    "\n",
    "        i=0\n",
    "        j=0\n",
    "        k=0\n",
    "        while i < len(lefthalf) and j < len(righthalf):\n",
    "            if lefthalf[i] < righthalf[j]:\n",
    "                vector[k]=lefthalf[i]\n",
    "                i=i+1\n",
    "            else:\n",
    "                vector[k]=righthalf[j]\n",
    "                j=j+1\n",
    "            k=k+1\n",
    "        # Merging é uma operação linear\n",
    "        while i < len(lefthalf):\n",
    "            vector[k]=lefthalf[i]\n",
    "            i=i+1\n",
    "            k=k+1\n",
    "\n",
    "        while j < len(righthalf):\n",
    "            vector[k]=righthalf[j]\n",
    "            j=j+1\n",
    "            k=k+1\n",
    "    print(\"Merging\",vector)"
   ]
  },
  {
   "cell_type": "code",
   "execution_count": null,
   "metadata": {},
   "outputs": [],
   "source": [
    "#Merge Sort 2.0"
   ]
  },
  {
   "cell_type": "code",
   "execution_count": 89,
   "metadata": {},
   "outputs": [],
   "source": [
    "# Merges 2 Subarrays ( v[left..mid] and v[mid+1..right])\n",
    "def merge(v,left,mid,right):\n",
    "    p1 = mid - left + 1\n",
    "    p2 = right - mid\n",
    "    \n",
    "    # Temp arrays\n",
    "    L_temp = [0] * (p1)\n",
    "    R_temp = [0] * (p2)\n",
    "    \n",
    "    # Copy data to temp arrays L[] and R[]\n",
    "    for i in range(0, p1):\n",
    "        L_temp[i] = v[left + i]\n",
    "    for j in range(0, p2):\n",
    "        R_temp[j] = v[mid + 1 + j]\n",
    "    \n",
    "    # Merge the temp arrays back into v[left...right]\n",
    "    i = 0 # ( Initial index of first subarray)\n",
    "    j = 0 # ( Initial index of the second subarray)\n",
    "    k = left # (initial index of the merged subarray)\n",
    "    \n",
    "    while i < p1 and j < p2:\n",
    "        if L_temp[i] <= R_temp[j]:\n",
    "            v[k] = L_temp[i]\n",
    "            i += 1\n",
    "        else:\n",
    "            v[k] = R_temp[j]\n",
    "            j += 1\n",
    "        k += 1\n",
    "        \n",
    "    # Copy the remaining elements (if there are any)\n",
    "    while i < p1:\n",
    "        v[k] = L_temp[i]\n",
    "        i += 1\n",
    "        k += 1\n",
    "    while j < p2:\n",
    "        v[k] = R_temp[j]\n",
    "        j += 1\n",
    "        k += 1   \n",
    "    "
   ]
  },
  {
   "cell_type": "code",
   "execution_count": 96,
   "metadata": {},
   "outputs": [],
   "source": [
    "def mergeSort(v, left, right):\n",
    "    if left < right:\n",
    "        mid = mt.ceil((left + (right - 1))/2) # Avoids overflow\n",
    "        \n",
    "        mergeSort(v, left, mid)\n",
    "        mergeSort(v, mid + 1, right)\n",
    "        merge(v, left, mid, right)\n",
    "        print(v)"
   ]
  },
  {
   "cell_type": "code",
   "execution_count": 101,
   "metadata": {},
   "outputs": [],
   "source": [
    "#Quick Sort"
   ]
  },
  {
   "cell_type": "code",
   "execution_count": 112,
   "metadata": {},
   "outputs": [],
   "source": [
    "def partition(v,l,r):\n",
    "    pivot = v[r]\n",
    "    start = l - 1\n",
    "    end = r\n",
    "    \n",
    "    done = 0\n",
    "    while not done:\n",
    "        while not done:\n",
    "            start = start + 1\n",
    "            \n",
    "            if start == end:\n",
    "                break\n",
    "            if v[start] > pivot:\n",
    "                v[end] = v[start]\n",
    "                break\n",
    "        while not done:\n",
    "            end = end - 1\n",
    "            \n",
    "            if end == start:\n",
    "                done = 1\n",
    "                break\n",
    "            if v[end] < pivot:\n",
    "                v[start] = v[end]\n",
    "                break\n",
    "    v[end] = pivot\n",
    "    return end"
   ]
  },
  {
   "cell_type": "code",
   "execution_count": 119,
   "metadata": {},
   "outputs": [],
   "source": [
    "def quickSort(v,l,r):\n",
    "    if l < r: \n",
    "        split = partition(v,l,r)\n",
    "        quickSort(v, l, split-1)\n",
    "        quickSort(v, split + 1, r)\n",
    "    else: \n",
    "        return v\n",
    "    #if\n",
    "        "
   ]
  },
  {
   "cell_type": "code",
   "execution_count": 114,
   "metadata": {},
   "outputs": [],
   "source": [
    "#Heap Sort( Selection Otimizado )"
   ]
  },
  {
   "cell_type": "code",
   "execution_count": 115,
   "metadata": {},
   "outputs": [
    {
     "name": "stdout",
     "output_type": "stream",
     "text": [
      "Insection [-45  -4   2   3  10  11  12  27  34  44  76]\n"
     ]
    }
   ],
   "source": [
    "vector = np.array([3,76,34,12,-4,-45,27,44,2,11,10])\n",
    "insection_sort(vector)"
   ]
  },
  {
   "cell_type": "code",
   "execution_count": 116,
   "metadata": {},
   "outputs": [
    {
     "name": "stdout",
     "output_type": "stream",
     "text": [
      "Selection [-45  -4   2   3  10  11  12  27  34  44  76]\n"
     ]
    }
   ],
   "source": [
    "vector = np.array([3,76,34,12,-4,-45,27,44,2,11,10])\n",
    "selection_sort(vector)"
   ]
  },
  {
   "cell_type": "code",
   "execution_count": 117,
   "metadata": {},
   "outputs": [
    {
     "name": "stdout",
     "output_type": "stream",
     "text": [
      "[  3  76  34  12  -4 -45  27  44   2  11  10]\n",
      "[  3  34  76  12  -4 -45  27  44   2  11  10]\n",
      "[  3  34  76  -4  12 -45  27  44   2  11  10]\n",
      "[  3  34  76 -45  -4  12  27  44   2  11  10]\n",
      "[-45  -4   3  12  34  76  27  44   2  11  10]\n",
      "[-45  -4   3  12  34  76  27  44   2  11  10]\n",
      "[-45  -4   3  12  34  76   2  27  44  11  10]\n",
      "[-45  -4   3  12  34  76   2  27  44  10  11]\n",
      "[-45  -4   3  12  34  76   2  10  11  27  44]\n",
      "[-45  -4   2   3  10  11  12  27  34  44  76]\n"
     ]
    }
   ],
   "source": [
    "vector = np.array([3,76,34,12,-4,-45,27,44,2,11,10])\n",
    "n = len(vector)\n",
    "mergeSort(vector, 0, n-1)"
   ]
  },
  {
   "cell_type": "code",
   "execution_count": 118,
   "metadata": {},
   "outputs": [
    {
     "ename": "IndexError",
     "evalue": "index 11 is out of bounds for axis 0 with size 11",
     "output_type": "error",
     "traceback": [
      "\u001b[0;31m---------------------------------------------------------------------------\u001b[0m",
      "\u001b[0;31mIndexError\u001b[0m                                Traceback (most recent call last)",
      "\u001b[0;32m<ipython-input-118-6ff4d7cff5f4>\u001b[0m in \u001b[0;36m<module>\u001b[0;34m()\u001b[0m\n\u001b[1;32m      1\u001b[0m \u001b[0mvector\u001b[0m \u001b[0;34m=\u001b[0m \u001b[0mnp\u001b[0m\u001b[0;34m.\u001b[0m\u001b[0marray\u001b[0m\u001b[0;34m(\u001b[0m\u001b[0;34m[\u001b[0m\u001b[0;36m3\u001b[0m\u001b[0;34m,\u001b[0m\u001b[0;36m76\u001b[0m\u001b[0;34m,\u001b[0m\u001b[0;36m34\u001b[0m\u001b[0;34m,\u001b[0m\u001b[0;36m12\u001b[0m\u001b[0;34m,\u001b[0m\u001b[0;34m-\u001b[0m\u001b[0;36m4\u001b[0m\u001b[0;34m,\u001b[0m\u001b[0;34m-\u001b[0m\u001b[0;36m45\u001b[0m\u001b[0;34m,\u001b[0m\u001b[0;36m27\u001b[0m\u001b[0;34m,\u001b[0m\u001b[0;36m44\u001b[0m\u001b[0;34m,\u001b[0m\u001b[0;36m2\u001b[0m\u001b[0;34m,\u001b[0m\u001b[0;36m11\u001b[0m\u001b[0;34m,\u001b[0m\u001b[0;36m10\u001b[0m\u001b[0;34m]\u001b[0m\u001b[0;34m)\u001b[0m\u001b[0;34m\u001b[0m\u001b[0m\n\u001b[1;32m      2\u001b[0m \u001b[0mn\u001b[0m \u001b[0;34m=\u001b[0m \u001b[0mlen\u001b[0m\u001b[0;34m(\u001b[0m\u001b[0mvector\u001b[0m\u001b[0;34m)\u001b[0m\u001b[0;34m\u001b[0m\u001b[0m\n\u001b[0;32m----> 3\u001b[0;31m \u001b[0mquickSort\u001b[0m\u001b[0;34m(\u001b[0m\u001b[0mvector\u001b[0m\u001b[0;34m,\u001b[0m \u001b[0;36m0\u001b[0m\u001b[0;34m,\u001b[0m \u001b[0mn\u001b[0m\u001b[0;34m-\u001b[0m\u001b[0;36m1\u001b[0m\u001b[0;34m)\u001b[0m\u001b[0;34m\u001b[0m\u001b[0m\n\u001b[0m",
      "\u001b[0;32m<ipython-input-113-097a0d6866bf>\u001b[0m in \u001b[0;36mquickSort\u001b[0;34m(v, l, r)\u001b[0m\n\u001b[1;32m      1\u001b[0m \u001b[0;32mdef\u001b[0m \u001b[0mquickSort\u001b[0m\u001b[0;34m(\u001b[0m\u001b[0mv\u001b[0m\u001b[0;34m,\u001b[0m\u001b[0ml\u001b[0m\u001b[0;34m,\u001b[0m\u001b[0mr\u001b[0m\u001b[0;34m)\u001b[0m\u001b[0;34m:\u001b[0m\u001b[0;34m\u001b[0m\u001b[0m\n\u001b[1;32m      2\u001b[0m     \u001b[0;32mif\u001b[0m \u001b[0ml\u001b[0m \u001b[0;34m<\u001b[0m \u001b[0mr\u001b[0m\u001b[0;34m:\u001b[0m\u001b[0;34m\u001b[0m\u001b[0m\n\u001b[0;32m----> 3\u001b[0;31m         \u001b[0msplit\u001b[0m \u001b[0;34m=\u001b[0m \u001b[0mpartition\u001b[0m\u001b[0;34m(\u001b[0m\u001b[0mv\u001b[0m\u001b[0;34m,\u001b[0m\u001b[0ml\u001b[0m\u001b[0;34m,\u001b[0m\u001b[0mr\u001b[0m\u001b[0;34m)\u001b[0m\u001b[0;34m\u001b[0m\u001b[0m\n\u001b[0m\u001b[1;32m      4\u001b[0m         \u001b[0mquickSort\u001b[0m\u001b[0;34m(\u001b[0m\u001b[0mv\u001b[0m\u001b[0;34m,\u001b[0m \u001b[0ml\u001b[0m\u001b[0;34m,\u001b[0m \u001b[0msplit\u001b[0m\u001b[0;34m-\u001b[0m\u001b[0;36m1\u001b[0m\u001b[0;34m)\u001b[0m\u001b[0;34m\u001b[0m\u001b[0m\n\u001b[1;32m      5\u001b[0m         \u001b[0mquickSort\u001b[0m\u001b[0;34m(\u001b[0m\u001b[0mv\u001b[0m\u001b[0;34m,\u001b[0m \u001b[0msplit\u001b[0m \u001b[0;34m+\u001b[0m \u001b[0;36m1\u001b[0m\u001b[0;34m,\u001b[0m \u001b[0mr\u001b[0m\u001b[0;34m)\u001b[0m\u001b[0;34m\u001b[0m\u001b[0m\n",
      "\u001b[0;32m<ipython-input-112-6573b55e8cd9>\u001b[0m in \u001b[0;36mpartition\u001b[0;34m(v, l, r)\u001b[0m\n\u001b[1;32m     11\u001b[0m             \u001b[0;32mif\u001b[0m \u001b[0mstart\u001b[0m \u001b[0;34m==\u001b[0m \u001b[0mend\u001b[0m\u001b[0;34m:\u001b[0m\u001b[0;34m\u001b[0m\u001b[0m\n\u001b[1;32m     12\u001b[0m                 \u001b[0;32mbreak\u001b[0m\u001b[0;34m\u001b[0m\u001b[0m\n\u001b[0;32m---> 13\u001b[0;31m             \u001b[0;32mif\u001b[0m \u001b[0mv\u001b[0m\u001b[0;34m[\u001b[0m\u001b[0mstart\u001b[0m\u001b[0;34m]\u001b[0m \u001b[0;34m>\u001b[0m \u001b[0mpivot\u001b[0m\u001b[0;34m:\u001b[0m\u001b[0;34m\u001b[0m\u001b[0m\n\u001b[0m\u001b[1;32m     14\u001b[0m                 \u001b[0mv\u001b[0m\u001b[0;34m[\u001b[0m\u001b[0mend\u001b[0m\u001b[0;34m]\u001b[0m \u001b[0;34m=\u001b[0m \u001b[0mv\u001b[0m\u001b[0;34m[\u001b[0m\u001b[0mstart\u001b[0m\u001b[0;34m]\u001b[0m\u001b[0;34m\u001b[0m\u001b[0m\n\u001b[1;32m     15\u001b[0m                 \u001b[0;32mbreak\u001b[0m\u001b[0;34m\u001b[0m\u001b[0m\n",
      "\u001b[0;31mIndexError\u001b[0m: index 11 is out of bounds for axis 0 with size 11"
     ]
    }
   ],
   "source": [
    "vector = np.array([3,76,34,12,-4,-45,27,44,2,11,10])\n",
    "n = len(vector)\n",
    "quickSort(vector, 0, n-1)"
   ]
  },
  {
   "cell_type": "code",
   "execution_count": null,
   "metadata": {},
   "outputs": [],
   "source": []
  },
  {
   "cell_type": "code",
   "execution_count": null,
   "metadata": {},
   "outputs": [],
   "source": []
  }
 ],
 "metadata": {
  "kernelspec": {
   "display_name": "Python 3",
   "language": "python",
   "name": "python3"
  },
  "language_info": {
   "codemirror_mode": {
    "name": "ipython",
    "version": 3
   },
   "file_extension": ".py",
   "mimetype": "text/x-python",
   "name": "python",
   "nbconvert_exporter": "python",
   "pygments_lexer": "ipython3",
   "version": "3.6.4"
  }
 },
 "nbformat": 4,
 "nbformat_minor": 2
}
