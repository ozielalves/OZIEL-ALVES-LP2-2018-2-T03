{
 "cells": [
  {
   "cell_type": "code",
   "execution_count": 2,
   "metadata": {},
   "outputs": [],
   "source": [
    "_,b = (\"f\",\"s\")"
   ]
  },
  {
   "cell_type": "code",
   "execution_count": 3,
   "metadata": {},
   "outputs": [
    {
     "data": {
      "text/plain": [
       "'f'"
      ]
     },
     "execution_count": 3,
     "metadata": {},
     "output_type": "execute_result"
    }
   ],
   "source": [
    "_"
   ]
  },
  {
   "cell_type": "code",
   "execution_count": 4,
   "metadata": {},
   "outputs": [
    {
     "data": {
      "text/plain": [
       "[0, 1, 2, 3, 4, 5, 6, 7, 8, 9]"
      ]
     },
     "execution_count": 4,
     "metadata": {},
     "output_type": "execute_result"
    }
   ],
   "source": [
    "[x for x in range(0,10)]"
   ]
  },
  {
   "cell_type": "code",
   "execution_count": 8,
   "metadata": {},
   "outputs": [
    {
     "data": {
      "text/plain": [
       "[6, 7, 8, 9]"
      ]
     },
     "execution_count": 8,
     "metadata": {},
     "output_type": "execute_result"
    }
   ],
   "source": [
    "[x for x in range(0,10) if x > 5]"
   ]
  },
  {
   "cell_type": "code",
   "execution_count": 10,
   "metadata": {},
   "outputs": [],
   "source": [
    "def print_vars(arg):\n",
    "    vars = ['### {}: {}'.format(key, value)\n",
    "             for key, value in arg.items()\n",
    "             if not key.startswith('__')]\n",
    "    print(\"\\n\".join(vars))"
   ]
  },
  {
   "cell_type": "code",
   "execution_count": 11,
   "metadata": {},
   "outputs": [],
   "source": [
    "def f(y):\n",
    "    x = 4\n",
    "    print(x)\n",
    "    print_vars(locals())"
   ]
  },
  {
   "cell_type": "code",
   "execution_count": 12,
   "metadata": {},
   "outputs": [
    {
     "name": "stdout",
     "output_type": "stream",
     "text": [
      "### _ih: ['', '_,b = (f,s)', '_,b = (\"f\",\"s\")', '_', '[x for x in range(0,10)]', '[x for x in tange(0,10) if >5', '[x for x in tange(0,10) if >5]', '[x for x in tange(0,10) if x > 5]', '[x for x in range(0,10) if x > 5]', 'def f(y):\\n    x = 4\\n    print(x)\\n    print_vars(locals())', 'def print_vars(arg):\\n    vars = [\\'### {}: {}\\'.format(key, value)\\n             for key, value in arg.items()\\n             if not key.startswith(\\'__\\')]\\n    print(\"\\\\n\".join(vars))', 'def f(y):\\n    x = 4\\n    print(x)\\n    print_vars(locals())', 'x = 3\\nprint_vars(globals())\\nf(x)\\nprint(x)']\n",
      "### _oh: {3: 'f', 4: [0, 1, 2, 3, 4, 5, 6, 7, 8, 9], 8: [6, 7, 8, 9]}\n",
      "### _dh: ['/home/oziel/EDB2']\n",
      "### In: ['', '_,b = (f,s)', '_,b = (\"f\",\"s\")', '_', '[x for x in range(0,10)]', '[x for x in tange(0,10) if >5', '[x for x in tange(0,10) if >5]', '[x for x in tange(0,10) if x > 5]', '[x for x in range(0,10) if x > 5]', 'def f(y):\\n    x = 4\\n    print(x)\\n    print_vars(locals())', 'def print_vars(arg):\\n    vars = [\\'### {}: {}\\'.format(key, value)\\n             for key, value in arg.items()\\n             if not key.startswith(\\'__\\')]\\n    print(\"\\\\n\".join(vars))', 'def f(y):\\n    x = 4\\n    print(x)\\n    print_vars(locals())', 'x = 3\\nprint_vars(globals())\\nf(x)\\nprint(x)']\n",
      "### Out: {3: 'f', 4: [0, 1, 2, 3, 4, 5, 6, 7, 8, 9], 8: [6, 7, 8, 9]}\n",
      "### get_ipython: <bound method InteractiveShell.get_ipython of <ipykernel.zmqshell.ZMQInteractiveShell object at 0x7fbeac0bd358>>\n",
      "### exit: <IPython.core.autocall.ZMQExitAutocall object at 0x7fbea9050860>\n",
      "### quit: <IPython.core.autocall.ZMQExitAutocall object at 0x7fbea9050860>\n",
      "### _: [6, 7, 8, 9]\n",
      "### _i: def f(y):\n",
      "    x = 4\n",
      "    print(x)\n",
      "    print_vars(locals())\n",
      "### _ii: def print_vars(arg):\n",
      "    vars = ['### {}: {}'.format(key, value)\n",
      "             for key, value in arg.items()\n",
      "             if not key.startswith('__')]\n",
      "    print(\"\\n\".join(vars))\n",
      "### _iii: def f(y):\n",
      "    x = 4\n",
      "    print(x)\n",
      "    print_vars(locals())\n",
      "### _i1: _,b = (f,s)\n",
      "### _i2: _,b = (\"f\",\"s\")\n",
      "### b: s\n",
      "### _i3: _\n",
      "### _3: f\n",
      "### _i4: [x for x in range(0,10)]\n",
      "### _4: [0, 1, 2, 3, 4, 5, 6, 7, 8, 9]\n",
      "### _i5: [x for x in tange(0,10) if >5\n",
      "### _i6: [x for x in tange(0,10) if >5]\n",
      "### _i7: [x for x in tange(0,10) if x > 5]\n",
      "### _i8: [x for x in range(0,10) if x > 5]\n",
      "### _8: [6, 7, 8, 9]\n",
      "### _i9: def f(y):\n",
      "    x = 4\n",
      "    print(x)\n",
      "    print_vars(locals())\n",
      "### f: <function f at 0x7fbea85cd400>\n",
      "### _i10: def print_vars(arg):\n",
      "    vars = ['### {}: {}'.format(key, value)\n",
      "             for key, value in arg.items()\n",
      "             if not key.startswith('__')]\n",
      "    print(\"\\n\".join(vars))\n",
      "### print_vars: <function print_vars at 0x7fbea85cd048>\n",
      "### _i11: def f(y):\n",
      "    x = 4\n",
      "    print(x)\n",
      "    print_vars(locals())\n",
      "### _i12: x = 3\n",
      "print_vars(globals())\n",
      "f(x)\n",
      "print(x)\n",
      "### x: 3\n",
      "4\n",
      "### x: 4\n",
      "### y: 3\n",
      "3\n"
     ]
    }
   ],
   "source": [
    "x = 3\n",
    "print_vars(globals())\n",
    "f(x)\n",
    "print(x)"
   ]
  },
  {
   "cell_type": "code",
   "execution_count": 13,
   "metadata": {},
   "outputs": [],
   "source": [
    "empty_dict = {}"
   ]
  },
  {
   "cell_type": "code",
   "execution_count": 15,
   "metadata": {},
   "outputs": [],
   "source": [
    "empty_dict[\"a\"] = 3"
   ]
  },
  {
   "cell_type": "code",
   "execution_count": 16,
   "metadata": {},
   "outputs": [
    {
     "data": {
      "text/plain": [
       "{'a': 3}"
      ]
     },
     "execution_count": 16,
     "metadata": {},
     "output_type": "execute_result"
    }
   ],
   "source": [
    "empty_dict"
   ]
  },
  {
   "cell_type": "code",
   "execution_count": 18,
   "metadata": {},
   "outputs": [],
   "source": [
    "from collections import defaultdict"
   ]
  },
  {
   "cell_type": "code",
   "execution_count": 19,
   "metadata": {},
   "outputs": [],
   "source": [
    "empty_dict = defaultdict()"
   ]
  },
  {
   "cell_type": "code",
   "execution_count": 20,
   "metadata": {},
   "outputs": [],
   "source": [
    "empty_dict['a'] = 1"
   ]
  },
  {
   "cell_type": "code",
   "execution_count": 21,
   "metadata": {},
   "outputs": [
    {
     "ename": "KeyError",
     "evalue": "'b'",
     "output_type": "error",
     "traceback": [
      "\u001b[0;31m---------------------------------------------------------------------------\u001b[0m",
      "\u001b[0;31mKeyError\u001b[0m                                  Traceback (most recent call last)",
      "\u001b[0;32m<ipython-input-21-6d87f23b6989>\u001b[0m in \u001b[0;36m<module>\u001b[0;34m()\u001b[0m\n\u001b[0;32m----> 1\u001b[0;31m \u001b[0mprint\u001b[0m\u001b[0;34m(\u001b[0m\u001b[0mempty_dict\u001b[0m\u001b[0;34m[\u001b[0m\u001b[0;34m'b'\u001b[0m\u001b[0;34m]\u001b[0m\u001b[0;34m)\u001b[0m\u001b[0;34m\u001b[0m\u001b[0m\n\u001b[0m",
      "\u001b[0;31mKeyError\u001b[0m: 'b'"
     ]
    }
   ],
   "source": [
    "print(empty_dict['b'])"
   ]
  },
  {
   "cell_type": "code",
   "execution_count": null,
   "metadata": {},
   "outputs": [],
   "source": []
  }
 ],
 "metadata": {
  "kernelspec": {
   "display_name": "Python 3",
   "language": "python",
   "name": "python3"
  },
  "language_info": {
   "codemirror_mode": {
    "name": "ipython",
    "version": 3
   },
   "file_extension": ".py",
   "mimetype": "text/x-python",
   "name": "python",
   "nbconvert_exporter": "python",
   "pygments_lexer": "ipython3",
   "version": "3.6.4"
  }
 },
 "nbformat": 4,
 "nbformat_minor": 2
}
