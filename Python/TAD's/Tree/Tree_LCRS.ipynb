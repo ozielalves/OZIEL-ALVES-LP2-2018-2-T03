{
 "cells": [
  {
   "cell_type": "code",
   "execution_count": null,
   "metadata": {},
   "outputs": [],
   "source": [
    "class Node:\n",
    "    def __init__(self,value):\n",
    "    self.leftChild = None\n",
    "    self.rightSibling = None\n",
    "    self.data = value"
   ]
  },
  {
   "cell_type": "code",
   "execution_count": null,
   "metadata": {},
   "outputs": [],
   "source": [
    "class LCRS:\n",
    "    \n",
    "    root = None\n",
    "    \n",
    "    def createNode(self, data):\n",
    "        return Node(data)\n",
    "    \n",
    "    def insert(self, node, data): # DUPLICATE keys are not allowed\n",
    "        if node is None: # If tree is empty, return a root node\n",
    "            return self.createNode(data)\n",
    "        if data < node.data:\n",
    "            node.left = self.insert(node.left, data)\n",
    "        elif data > node.data:\n",
    "            node.right = self.insert(node.right, data)\n",
    "            \n",
    "        return node"
   ]
  }
 ],
 "metadata": {
  "kernelspec": {
   "display_name": "Python 3",
   "language": "python",
   "name": "python3"
  },
  "language_info": {
   "codemirror_mode": {
    "name": "ipython",
    "version": 3
   },
   "file_extension": ".py",
   "mimetype": "text/x-python",
   "name": "python",
   "nbconvert_exporter": "python",
   "pygments_lexer": "ipython3",
   "version": "3.6.4"
  }
 },
 "nbformat": 4,
 "nbformat_minor": 2
}
