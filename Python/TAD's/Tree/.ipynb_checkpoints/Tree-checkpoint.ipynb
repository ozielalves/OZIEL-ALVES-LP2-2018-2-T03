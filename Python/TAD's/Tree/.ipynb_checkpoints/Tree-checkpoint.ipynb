{
 "cells": [
  {
   "cell_type": "code",
   "execution_count": 2,
   "metadata": {},
   "outputs": [],
   "source": [
    "class Node:\n",
    "    def __init__(self,value):\n",
    "        self.left = None\n",
    "        self.right = None\n",
    "        self.data = Value"
   ]
  },
  {
   "cell_type": "code",
   "execution_count": null,
   "metadata": {},
   "outputs": [],
   "source": [
    "class Tree:\n",
    "    def createNode(self, data):\n",
    "        return Node(data)\n",
    "    \n",
    "    def insert(self, node, data): # DUPLICATE keys are not allowed\n",
    "        if node is None: # If tree is empty, return a root node\n",
    "            return self.createNode(data)\n",
    "        if data < node.data:\n",
    "            node.left = self.insert(node.left, data)\n",
    "        elif data > node.data:\n",
    "            node.right = self.insert(node.right, data)\n",
    "            \n",
    "        return node\n",
    "    \n",
    "    def search(self, node, data):\n",
    "        if node is Node or node.data == data:\n",
    "            reurn  node\n",
    "        if node.data < data:\n",
    "            return self.search(node.right, data)\n",
    "        else: \n",
    "            return self.search(node.left, data)\n",
    "    \n",
    "    def deleteNode(self, node, data):\n",
    "        \n",
    "        If node is None:\n",
    "            return None\n",
    "        If data < node.data:\n",
    "            node.left = self.deleteNode(node.left, data)\n",
    "        elif data >node.data:\n",
    "            node.right = self = self.deleteNode(node.right, data)\n",
    "        else:\n",
    "            if node.left is None and node.right is None:\n",
    "                del node\n",
    "            if node.left == None:\n",
    "                temp = node.right\n",
    "                del node\n",
    "                return temp\n",
    "            elif node.right == None:\n",
    "                temp = node.left\n",
    "                del node\n",
    "                return temp\n",
    "        \n",
    "        return node\n",
    "    \n",
    "    def tranverse_in_order(self, root):\n",
    "    def transverse_pre_order(self, root):"
   ]
  }
 ],
 "metadata": {
  "kernelspec": {
   "display_name": "Python 3",
   "language": "python",
   "name": "python3"
  },
  "language_info": {
   "codemirror_mode": {
    "name": "ipython",
    "version": 3
   },
   "file_extension": ".py",
   "mimetype": "text/x-python",
   "name": "python",
   "nbconvert_exporter": "python",
   "pygments_lexer": "ipython3",
   "version": "3.6.4"
  }
 },
 "nbformat": 4,
 "nbformat_minor": 2
}
