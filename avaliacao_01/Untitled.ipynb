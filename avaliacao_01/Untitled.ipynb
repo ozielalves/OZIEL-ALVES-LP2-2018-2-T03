{
 "cells": [
  {
   "cell_type": "code",
   "execution_count": 647,
   "metadata": {
    "scrolled": false
   },
   "outputs": [],
   "source": [
    "# Problem data:\n",
    "total_cadeiras = 29\n",
    "QE = 12684"
   ]
  },
  {
   "cell_type": "code",
   "execution_count": 648,
   "metadata": {},
   "outputs": [],
   "source": [
    "elec_votes = dict()\n",
    "elections = []\n",
    "\n",
    "# Filtering the coalitions\n",
    "with open(\"eleicao.csv\", encoding=\"utf-8\") as f:\n",
    "    f.readline()\n",
    "    for line in f:\n",
    "        elections.append(line.split(\";\"))\n",
    "        data = line.split(\";\")\n",
    "        parties_coal = data[2]\n",
    "        \n",
    "        if parties_coal.find(\"-\") != -1:\n",
    "            parties_coal = parties_coal[(parties_coal.find(\"-\") + 2):]\n",
    "\n",
    "        # Assigning the number of votes to each party \n",
    "        if parties_coal in elec_votes:\n",
    "            elec_votes[parties_coal] += int(data[3])\n",
    "        else:\n",
    "            elec_votes[parties_coal] = int(data[3]) "
   ]
  },
  {
   "cell_type": "code",
   "execution_count": 649,
   "metadata": {},
   "outputs": [],
   "source": [
    "# Sorting candidates by the number of votes\n",
    "elections = sorted(elections, key = lambda votes: int(votes[3]), reverse=True)        "
   ]
  },
  {
   "cell_type": "code",
   "execution_count": 650,
   "metadata": {},
   "outputs": [],
   "source": [
    "# Finding the Parties Coefficient\n",
    "QP = {parties: (votes // QE) for parties, votes in elec_votes.items() if (votes // QE) > 0}"
   ]
  },
  {
   "cell_type": "code",
   "execution_count": 651,
   "metadata": {},
   "outputs": [
    {
     "name": "stdout",
     "output_type": "stream",
     "text": [
      ">>> Remaining chairs number:  10\n"
     ]
    }
   ],
   "source": [
    "# The number of chairs left after the first distribution\n",
    "chairs_left = total_cadeiras - sum(filter(lambda elem:elem,(map(lambda QP:int(QP),QP.values()))))\n",
    "print(\">>> Remaining chairs number: \",chairs_left)"
   ]
  },
  {
   "cell_type": "code",
   "execution_count": 652,
   "metadata": {
    "scrolled": true
   },
   "outputs": [],
   "source": [
    "# Distribution of remaining chairs\n",
    "M = dict()\n",
    "for i in range(chairs_left):\n",
    "    #M = {party : elec_votes[party] / (qp + 1) for party, qp in QP.items()}\n",
    "    for party,qp in QP.items():\n",
    "        M[party] = (elec_votes[party]/(qp + 1))\n",
    "    winner_party = max(M, key=M.get)\n",
    "    QP[winner_party] += 1"
   ]
  },
  {
   "cell_type": "code",
   "execution_count": 653,
   "metadata": {},
   "outputs": [],
   "source": [
    "# Selecting Elected Politicians\n",
    "for i, coalitions in enumerate(elections):\n",
    "    if coalitions[2].find(\"-\") != -1:\n",
    "        party = coalitions[2][(coalitions[2].find(\"-\") + 2):]\n",
    "    else:\n",
    "        party = coalitions[2]\n",
    "    if party in QP and QP[party] > 0:\n",
    "        QP[party] += -1\n",
    "    else:\n",
    "        elections[i] = 0\n",
    "\n",
    "elections = [elected for elected in elections if elected != 0]"
   ]
  },
  {
   "cell_type": "code",
   "execution_count": 654,
   "metadata": {},
   "outputs": [],
   "source": [
    "# Generating output file with elected politicians\n",
    "result = open(\"electeds.tsv\", \"w\")\n",
    "for i in range(0,total_cadeiras):\n",
    "    result.write(\"\\t\".join(elections[i]))"
   ]
  }
 ],
 "metadata": {
  "kernelspec": {
   "display_name": "Python 3",
   "language": "python",
   "name": "python3"
  },
  "language_info": {
   "codemirror_mode": {
    "name": "ipython",
    "version": 3
   },
   "file_extension": ".py",
   "mimetype": "text/x-python",
   "name": "python",
   "nbconvert_exporter": "python",
   "pygments_lexer": "ipython3",
   "version": "3.6.4"
  }
 },
 "nbformat": 4,
 "nbformat_minor": 2
}
